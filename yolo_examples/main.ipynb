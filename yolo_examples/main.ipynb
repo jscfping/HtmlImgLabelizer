{
 "cells": [
  {
   "cell_type": "code",
   "execution_count": null,
   "id": "dd9de131-a1fd-4e88-9e93-ea25a0d64713",
   "metadata": {},
   "outputs": [],
   "source": [
    "!pip install ultralytics==8.3.191"
   ]
  },
  {
   "cell_type": "code",
   "execution_count": null,
   "id": "684927f9-c2a3-4d33-a374-19a5dac05719",
   "metadata": {},
   "outputs": [],
   "source": [
    "from ultralytics import YOLO\n",
    "from IPython.display import display\n",
    "from PIL import Image\n",
    "from datetime import datetime\n",
    "import torch\n",
    "\n",
    "print(torch.version.cuda)\n",
    "print(\"CUDA available:\", torch.cuda.is_available())\n",
    "print(\"CUDA device count:\", torch.cuda.device_count())\n",
    "if torch.cuda.is_available():\n",
    "    print(\"Current device:\", torch.cuda.current_device())\n",
    "    print(\"Device name:\", torch.cuda.get_device_name(torch.cuda.current_device()))\n",
    "\n",
    "def show_pred(model, img_path):\n",
    "    results = model(img_path)\n",
    "    result = results[0]\n",
    "    result_img = result.plot()\n",
    "    display(Image.fromarray(result_img)) #display(Image.open(\"000000000307.jpg\"))"
   ]
  },
  {
   "cell_type": "code",
   "execution_count": null,
   "id": "be6a45b6-0c8b-4df7-8936-623a2c119d39",
   "metadata": {},
   "outputs": [],
   "source": [
    "yolo11n = YOLO(\"yolo11n.pt\")\n",
    "\n",
    "show_pred(yolo11n, \"dataset/03.png\")"
   ]
  },
  {
   "cell_type": "code",
   "execution_count": null,
   "id": "6d8f005f-87bd-4a2f-9c96-f66ae0b8c6cd",
   "metadata": {},
   "outputs": [],
   "source": [
    "yolo11n.train(\n",
    "    data=\"dataset/dataset.yaml\",\n",
    "    epochs=2,\n",
    "    imgsz=640,\n",
    "    batch=16\n",
    ")\n",
    "\n",
    "new_model_name = f\"{datetime.now().strftime('%Y%m%d_%H%M%S')}.pt\"\n",
    "\n",
    "yolo11n.save(new_model_name)"
   ]
  },
  {
   "cell_type": "code",
   "execution_count": null,
   "id": "a2abc40b-693c-4eae-8451-1992ca709e18",
   "metadata": {},
   "outputs": [],
   "source": [
    "new_model = YOLO(new_model_name)\n",
    "show_pred(new_model, \"dataset/03.png\")\n",
    "show_pred(new_model, \"dataset/04.png\")\n",
    "show_pred(new_model, \"dataset/14.png\")"
   ]
  }
 ],
 "metadata": {
  "kernelspec": {
   "display_name": "Python 3 (ipykernel)",
   "language": "python",
   "name": "python3"
  },
  "language_info": {
   "codemirror_mode": {
    "name": "ipython",
    "version": 3
   },
   "file_extension": ".py",
   "mimetype": "text/x-python",
   "name": "python",
   "nbconvert_exporter": "python",
   "pygments_lexer": "ipython3",
   "version": "3.10.18"
  }
 },
 "nbformat": 4,
 "nbformat_minor": 5
}
